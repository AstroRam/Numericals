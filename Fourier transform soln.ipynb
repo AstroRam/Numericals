{
 "cells": [
  {
   "cell_type": "markdown",
   "id": "834bf2ca",
   "metadata": {},
   "source": [
    "# Discrete Fourier Transform"
   ]
  },
  {
   "cell_type": "markdown",
   "id": "8cc8899b",
   "metadata": {},
   "source": [
    "x = M . x"
   ]
  },
  {
   "cell_type": "markdown",
   "id": "4f87fdfe",
   "metadata": {},
   "source": [
    "\n",
    "Matrix M = e^(-i 2$\\pi$k*n)/N"
   ]
  },
  {
   "cell_type": "code",
   "execution_count": 4,
   "id": "3ea68f3f",
   "metadata": {},
   "outputs": [],
   "source": [
    "import numpy as np"
   ]
  },
  {
   "cell_type": "code",
   "execution_count": 8,
   "id": "876ab0b1",
   "metadata": {},
   "outputs": [],
   "source": [
    "def DFT(x):\n",
    "    x = np.asarray(x, dtype = float)\n",
    "    N = x.shape[0]\n",
    "    n = np.arange(N)\n",
    "    k = n.reshape((N,1))\n",
    "    M = np.exp(-2j *np.pi * k * n / N)\n",
    "\n",
    "    return np.dot(M,x)\n",
    "\n",
    "    "
   ]
  },
  {
   "cell_type": "code",
   "execution_count": 14,
   "id": "e6436516",
   "metadata": {},
   "outputs": [
    {
     "name": "stdout",
     "output_type": "stream",
     "text": [
      "[514.82867567+0.j           7.04584468-6.60060949j\n",
      "  -1.46982376+8.58366659j ...   2.48240055-2.23828725j\n",
      "  -1.46982376-8.58366659j   7.04584468+6.60060949j] [514.82867567+0.j           7.04584468-6.60060949j\n",
      "  -1.46982376+8.58366659j ...   2.48240055-2.23828725j\n",
      "  -1.46982376-8.58366659j   7.04584468+6.60060949j]\n"
     ]
    }
   ],
   "source": [
    "x = np.random.random(1024)\n",
    "print(DFT(x), np.fft.fft(x))"
   ]
  },
  {
   "cell_type": "code",
   "execution_count": 15,
   "id": "1ccb9701",
   "metadata": {},
   "outputs": [
    {
     "data": {
      "text/plain": [
       "True"
      ]
     },
     "execution_count": 15,
     "metadata": {},
     "output_type": "execute_result"
    }
   ],
   "source": [
    "np.allclose(DFT(x), np.fft.fft(x))"
   ]
  },
  {
   "cell_type": "code",
   "execution_count": null,
   "id": "ce1049f8",
   "metadata": {},
   "outputs": [],
   "source": []
  }
 ],
 "metadata": {
  "kernelspec": {
   "display_name": "Python 3 (ipykernel)",
   "language": "python",
   "name": "python3"
  },
  "language_info": {
   "codemirror_mode": {
    "name": "ipython",
    "version": 3
   },
   "file_extension": ".py",
   "mimetype": "text/x-python",
   "name": "python",
   "nbconvert_exporter": "python",
   "pygments_lexer": "ipython3",
   "version": "3.11.5"
  }
 },
 "nbformat": 4,
 "nbformat_minor": 5
}
